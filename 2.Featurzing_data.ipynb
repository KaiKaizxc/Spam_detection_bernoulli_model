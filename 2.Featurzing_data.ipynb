{
 "cells": [
  {
   "cell_type": "code",
   "execution_count": 1,
   "metadata": {},
   "outputs": [],
   "source": [
    "import pandas as pd "
   ]
  },
  {
   "cell_type": "markdown",
   "metadata": {},
   "source": [
    "<p><b>Some steps to take into account , we can count the number of times each word has appeared</b></p>"
   ]
  },
  {
   "cell_type": "markdown",
   "metadata": {},
   "source": []
  }
 ],
 "metadata": {
  "interpreter": {
   "hash": "f78a21f0f3bfb2d6f3129c1d7f0f4cb38a901bace3b2a91c28ee511dfa419d7c"
  },
  "kernelspec": {
   "display_name": "Python 3.10.1 ('storefront-QAkCh7sc')",
   "language": "python",
   "name": "python3"
  },
  "language_info": {
   "name": "python",
   "version": "3.9.7"
  },
  "orig_nbformat": 4
 },
 "nbformat": 4,
 "nbformat_minor": 2
}
